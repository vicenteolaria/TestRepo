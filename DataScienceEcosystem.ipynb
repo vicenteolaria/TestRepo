{
 "cells": [
  {
   "cell_type": "markdown",
   "id": "3388cf94-a305-4c99-9236-ef88760e30df",
   "metadata": {
    "panel-layout": {
     "height": 51.1406,
     "visible": true,
     "width": 100
    }
   },
   "source": [
    "Data Science Tools and Ecosystem"
   ]
  },
  {
   "cell_type": "markdown",
   "id": "a47f5392-85b3-4137-8d94-0ac2a91fad39",
   "metadata": {},
   "source": [
    "# In this notebook, Data Science Tools and Ecosystem are summarized."
   ]
  },
  {
   "cell_type": "markdown",
   "id": "3c2185fd-4058-469f-bf6c-306603fbb019",
   "metadata": {},
   "source": [
    "**Objectives:**\n",
    "- R\n",
    "- Julia\n",
    "- Python\n",
    "- Scala"
   ]
  },
  {
   "cell_type": "code",
   "execution_count": null,
   "id": "a5b47ec6-969f-467d-bf0d-d9a1c653e2bc",
   "metadata": {},
   "outputs": [],
   "source": []
  },
  {
   "cell_type": "markdown",
   "id": "fd37e448-b8e4-41ac-8dc1-abaca6141db3",
   "metadata": {},
   "source": [
    "Some of the popular languages that Data Scientists use are:"
   ]
  },
  {
   "cell_type": "markdown",
   "id": "7edd218f-9b26-484a-b598-67da81fabd0a",
   "metadata": {},
   "source": [
    "Python"
   ]
  },
  {
   "cell_type": "markdown",
   "id": "57eccd69-1c23-4e98-8fa5-22398b9bb9f7",
   "metadata": {},
   "source": [
    "R"
   ]
  },
  {
   "cell_type": "markdown",
   "id": "de39c446-27cb-427b-9777-94bd768c71f4",
   "metadata": {},
   "source": [
    "SQL"
   ]
  },
  {
   "cell_type": "markdown",
   "id": "22c004f5-7c63-4018-86b5-257323d57309",
   "metadata": {},
   "source": [
    "Some of the commonly used libraries used by Data Scientists include:"
   ]
  },
  {
   "cell_type": "markdown",
   "id": "976a967e-246d-4c44-bdbf-723045cf4b57",
   "metadata": {},
   "source": [
    "NumPy"
   ]
  },
  {
   "cell_type": "markdown",
   "id": "d20d3dbf-b5e6-4614-970e-064e75d7bd31",
   "metadata": {},
   "source": [
    "Pandas"
   ]
  },
  {
   "cell_type": "markdown",
   "id": "cb07d977-3c98-406c-903c-dace9d0fa399",
   "metadata": {},
   "source": [
    "SciPy"
   ]
  },
  {
   "cell_type": "markdown",
   "id": "e1b71b2e-6c48-40b2-82d3-8bb70c997ebc",
   "metadata": {},
   "source": [
    "Data Science Tools"
   ]
  },
  {
   "cell_type": "markdown",
   "id": "5a6c5971-fe99-4a32-b864-73331d67d673",
   "metadata": {},
   "source": [
    "Apache Spark"
   ]
  },
  {
   "cell_type": "markdown",
   "id": "d6bc009a-1c80-41c8-86a8-bdcb7cc585f8",
   "metadata": {},
   "source": [
    " Seaborn"
   ]
  },
  {
   "cell_type": "markdown",
   "id": "17606d02-0c6a-4812-a76e-eaa2fbc99702",
   "metadata": {},
   "source": [
    " Apache Hadoop"
   ]
  },
  {
   "cell_type": "markdown",
   "id": "0e1385ff-e123-44f1-8876-30520a7725a1",
   "metadata": {},
   "source": [
    "### Below are a few examples of evaluating arithmetic expressions in Python"
   ]
  },
  {
   "cell_type": "code",
   "execution_count": 1,
   "id": "dc3bee75-ce19-442c-973b-f43424237b98",
   "metadata": {},
   "outputs": [
    {
     "data": {
      "text/plain": [
       "17"
      ]
     },
     "execution_count": 1,
     "metadata": {},
     "output_type": "execute_result"
    }
   ],
   "source": [
    "(3*4)+5 #  This a simple arithmetic expression to mutiply then add integers"
   ]
  },
  {
   "cell_type": "code",
   "execution_count": 4,
   "id": "1484f7e2-f708-4090-bee7-a4914e6fbef8",
   "metadata": {},
   "outputs": [
    {
     "ename": "SyntaxError",
     "evalue": "invalid syntax (88883593.py, line 1)",
     "output_type": "error",
     "traceback": [
      "\u001b[0;36m  Cell \u001b[0;32mIn[4], line 1\u001b[0;36m\u001b[0m\n\u001b[0;31m    200 minutes a [número hours ] #This will convert 200 minutes to hours by diving by 60\u001b[0m\n\u001b[0m        ^\u001b[0m\n\u001b[0;31mSyntaxError\u001b[0m\u001b[0;31m:\u001b[0m invalid syntax\n"
     ]
    }
   ],
   "source": [
    "200 minutes a [número hours ] #This will convert 200 minutes to hours by diving by 60"
   ]
  },
  {
   "cell_type": "markdown",
   "id": "31c47cde-50b7-4678-be50-80fbc03d0195",
   "metadata": {},
   "source": [
    "## Author \n",
    "Vicente Olaria"
   ]
  }
 ],
 "metadata": {
  "kernelspec": {
   "display_name": "anaconda-2024.02-py310",
   "language": "python",
   "name": "conda-env-anaconda-2024.02-py310-py"
  },
  "language_info": {
   "codemirror_mode": {
    "name": "ipython",
    "version": 3
   },
   "file_extension": ".py",
   "mimetype": "text/x-python",
   "name": "python",
   "nbconvert_exporter": "python",
   "pygments_lexer": "ipython3",
   "version": "3.10.14"
  },
  "panel-cell-order": [
   "3388cf94-a305-4c99-9236-ef88760e30df"
  ]
 },
 "nbformat": 4,
 "nbformat_minor": 5
}
